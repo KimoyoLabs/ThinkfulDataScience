{
  "nbformat": 4,
  "nbformat_minor": 0,
  "metadata": {
    "colab": {
      "name": "Untitled0.ipynb",
      "provenance": [],
      "include_colab_link": true
    },
    "kernelspec": {
      "name": "python3",
      "display_name": "Python 3"
    }
  },
  "cells": [
    {
      "cell_type": "markdown",
      "metadata": {
        "id": "view-in-github",
        "colab_type": "text"
      },
      "source": [
        "<a href=\"https://colab.research.google.com/github/KimoyoLabs/ThinkfulDataScience/blob/master/ColabTester.ipynb\" target=\"_parent\"><img src=\"https://colab.research.google.com/assets/colab-badge.svg\" alt=\"Open In Colab\"/></a>"
      ]
    },
    {
      "cell_type": "code",
      "metadata": {
        "id": "82V5ave7M1bG",
        "colab_type": "code",
        "outputId": "c49fbadf-6b6b-4072-9874-4a8651dbed27",
        "colab": {
          "base_uri": "https://localhost:8080/",
          "height": 34
        }
      },
      "source": [
        "class Person(object):\n",
        "  def __init__(self, name, age):\n",
        "    self.name = name\n",
        "    self.age = age\n",
        "\n",
        "  def print_name(self):\n",
        "    print(\"My name is {}\".format(self.name))\n",
        "\n",
        "jamal = Person(\"Jamal\",28)\n",
        "jamal.print_name()\n",
        "\n"
      ],
      "execution_count": 0,
      "outputs": [
        {
          "output_type": "stream",
          "text": [
            "My name is Jamal\n"
          ],
          "name": "stdout"
        }
      ]
    },
    {
      "cell_type": "code",
      "metadata": {
        "id": "90gqE_N1pUPk",
        "colab_type": "code",
        "colab": {}
      },
      "source": [
        "import pandas as pd\n",
        "import numpy as np\n",
        "\n",
        "age_array = np.array([50, 51, 39, 38, 124, 2013, 45, 1768, 98])\n",
        "names_list = ['Sam', 'Frodo', 'Merry', 'Pippin', 'Aragorn', 'Gandalf', 'Boromir', 'Legolas', 'Gimli']\n",
        "\n",
        "fellowship = pd.Series(age_array, index=names_list)"
      ],
      "execution_count": 0,
      "outputs": []
    },
    {
      "cell_type": "code",
      "metadata": {
        "id": "e_KXHhCWuJ46",
        "colab_type": "code",
        "outputId": "5635ca95-742a-4911-8b98-bd8bddb1a156",
        "colab": {
          "base_uri": "https://localhost:8080/",
          "height": 187
        }
      },
      "source": [
        "print(fellowship)"
      ],
      "execution_count": 0,
      "outputs": [
        {
          "output_type": "stream",
          "text": [
            "Sam          50\n",
            "Frodo        51\n",
            "Merry        39\n",
            "Pippin       38\n",
            "Aragorn     124\n",
            "Gandalf    2013\n",
            "Boromir      45\n",
            "Legolas    1768\n",
            "Gimli        98\n",
            "dtype: int64\n"
          ],
          "name": "stdout"
        }
      ]
    },
    {
      "cell_type": "code",
      "metadata": {
        "id": "cl0ZiE14Fm7m",
        "colab_type": "code",
        "outputId": "6d0e60a8-2ed6-44b2-e44e-2f943a5553d5",
        "colab": {
          "base_uri": "https://localhost:8080/",
          "height": 68
        }
      },
      "source": [
        "print(\"Oldest: {} \\nYoungest: {} \\nAverage Age: {}\\n  \".format(fellowship.max(), fellowship.min(), fellowship.mean()))"
      ],
      "execution_count": 0,
      "outputs": [
        {
          "output_type": "stream",
          "text": [
            "Oldest: 2013 \n",
            "Youngest: 38 \n",
            "Average Age: 469.55555555555554 \n"
          ],
          "name": "stdout"
        }
      ]
    }
  ]
}